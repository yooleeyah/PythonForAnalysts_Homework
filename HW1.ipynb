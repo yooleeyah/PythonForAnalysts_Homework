{
 "cells": [
  {
   "cell_type": "markdown",
   "id": "127a4205",
   "metadata": {},
   "source": [
    "## Задача 1"
   ]
  },
  {
   "cell_type": "markdown",
   "id": "84299877",
   "metadata": {},
   "source": [
    "На складе лежат разные фрукты в разном количестве.\n",
    "Нужно написать функцию, которая на вход принимает любое количество названий фруктов и их количество, а возвращает общее количество фруктов на складе."
   ]
  },
  {
   "cell_type": "code",
   "execution_count": 121,
   "id": "9af96df9",
   "metadata": {},
   "outputs": [],
   "source": [
    "def count_all_fruits(data):\n",
    "    return sum(list(data.values()))"
   ]
  },
  {
   "cell_type": "code",
   "execution_count": 122,
   "id": "2b8fde0f",
   "metadata": {},
   "outputs": [
    {
     "data": {
      "text/plain": [
       "275"
      ]
     },
     "execution_count": 122,
     "metadata": {},
     "output_type": "execute_result"
    }
   ],
   "source": [
    "fruits = {'apples': 50, \n",
    "          'bananas': 25, \n",
    "          'cherries': 100, \n",
    "          'grapes': 100}\n",
    "count_all_fruits(fruits)"
   ]
  },
  {
   "cell_type": "markdown",
   "id": "6d5544a9",
   "metadata": {},
   "source": [
    "## Задача 2"
   ]
  },
  {
   "cell_type": "markdown",
   "id": "232f5a41",
   "metadata": {},
   "source": [
    "Дан список с затратами на рекламу. Но в данных есть ошибки, некоторые затраты имеют отрицательную величину. Удалите такие значения из списка и посчитайте суммарные затраты. Используйте list comprehensions.\n",
    "[100, 125, -90, 345, 655, -1, 0, 200]"
   ]
  },
  {
   "cell_type": "code",
   "execution_count": 123,
   "id": "6a54d9da",
   "metadata": {},
   "outputs": [],
   "source": [
    "ads_price = [100, 125, -90, 345, 655, -1, 0, 200]"
   ]
  },
  {
   "cell_type": "code",
   "execution_count": 124,
   "id": "fc39700a",
   "metadata": {},
   "outputs": [
    {
     "data": {
      "text/plain": [
       "[100, 125, 0, 345, 655, 0, 0, 200]"
      ]
     },
     "execution_count": 124,
     "metadata": {},
     "output_type": "execute_result"
    }
   ],
   "source": [
    "# def sum_ads(prices: list) -> int:\n",
    "#     for i in prices:\n",
    "#         if i < 0:\n",
    "#             prices.remove(i)\n",
    "#     return sum(ads_price)\n",
    "\n",
    "new_price = [i if i >= 0 else 0 for i in ads_price]\n",
    "new_price"
   ]
  },
  {
   "cell_type": "code",
   "execution_count": 125,
   "id": "51bcde7e",
   "metadata": {},
   "outputs": [
    {
     "data": {
      "text/plain": [
       "1425"
      ]
     },
     "execution_count": 125,
     "metadata": {},
     "output_type": "execute_result"
    }
   ],
   "source": [
    "sum(new_price)"
   ]
  },
  {
   "cell_type": "markdown",
   "id": "35f5b064",
   "metadata": {},
   "source": [
    "## Задача 3"
   ]
  },
  {
   "cell_type": "markdown",
   "id": "e02318c7",
   "metadata": {},
   "source": [
    "Даны два списка.\n",
    "Дата покупки:\n",
    "\n",
    "['2021-09-14', '2021-12-15', '2021-09-08', '2021-12-05', '2021-10-09', '2021-09-30', '2021-12-22', '2021-11-29', '2021-12-24', '2021-11-26', '2021-10-27', '2021-12-18', '2021-11-09', '2021-11-23', '2021-09-27', '2021-10-02', '2021-12-27', '2021-09-20', '2021-12-13', '2021-11-01', '2021-11-09', '2021-12-06', '2021-12-08', '2021-10-09', '2021-10-31', '2021-09-30', '2021-11-09', '2021-12-13', '2021-10-26', '2021-12-09']\n",
    "\n",
    "Суммы покупок по датам:\n",
    "\n",
    "[1270, 8413, 9028, 3703, 5739, 4095, 295, 4944, 5723, 3701, 4471, 651, 7037, 4274, 6275, 4988, 6930, 2971, 6592, 2004, 2822, 519, 3406, 2732, 5015, 2008, 316, 6333, 5700, 2887]"
   ]
  },
  {
   "cell_type": "markdown",
   "id": "678daccb",
   "metadata": {},
   "source": [
    "### 3.1"
   ]
  },
  {
   "cell_type": "markdown",
   "id": "f7830cfe",
   "metadata": {},
   "source": [
    "Найдите, какая выручка у компании в ноябре. Используйте list comprehensions."
   ]
  },
  {
   "cell_type": "code",
   "execution_count": 126,
   "id": "a87b73a9",
   "metadata": {},
   "outputs": [],
   "source": [
    "dates = ['2021-09-14', '2021-12-15', '2021-09-08', '2021-12-05', '2021-10-09', '2021-09-30', '2021-12-22', '2021-11-29',\n",
    "         '2021-12-24', '2021-11-26', '2021-10-27', '2021-12-18', '2021-11-09', '2021-11-23', '2021-09-27', '2021-10-02',\n",
    "         '2021-12-27', '2021-09-20', '2021-12-13', '2021-11-01', '2021-11-09', '2021-12-06', '2021-12-08', '2021-10-09',\n",
    "         '2021-10-31', '2021-09-30', '2021-11-09', '2021-12-13', '2021-10-26', '2021-12-09']\n",
    "costs = [1270, 8413, 9028, 3703, 5739, 4095, 295, 4944, 5723, 3701, 4471, 651, 7037, 4274, 6275, 4988, 6930, 2971, 6592, 2004, \n",
    "         2822, 519, 3406, 2732, 5015, 2008, 316, 6333, 5700, 2887]"
   ]
  },
  {
   "cell_type": "code",
   "execution_count": 127,
   "id": "01cd764f",
   "metadata": {},
   "outputs": [],
   "source": [
    "# def nov_income(dates: list, costs: list) -> int:\n",
    "#     new_costs = []\n",
    "#     for i in range(len(dates)):\n",
    "#         if dates[i].split(\"-\")[1] == '11':\n",
    "#             new_costs.append(costs[i])\n",
    "#     return sum(new_costs)\n",
    "\n",
    "# nov_income(dates, costs)"
   ]
  },
  {
   "cell_type": "code",
   "execution_count": 128,
   "id": "b196f92d",
   "metadata": {},
   "outputs": [
    {
     "data": {
      "text/plain": [
       "25098"
      ]
     },
     "execution_count": 128,
     "metadata": {},
     "output_type": "execute_result"
    }
   ],
   "source": [
    "nov_income = [i if dates[costs.index(i)].split(\"-\")[1] == '11' else 0 for i in costs]\n",
    "sum(nov_costs)"
   ]
  },
  {
   "cell_type": "markdown",
   "id": "bc14ae66",
   "metadata": {},
   "source": [
    "### 3.2"
   ]
  },
  {
   "cell_type": "markdown",
   "id": "809a0c0f",
   "metadata": {},
   "source": [
    "Найдите выручку компании в зависимости от месяца. Для этого напишите функцию, которая на вход принимает список с датами и список\n",
    "с выручкой, а на выходе словарь, где ключи - это месяцы, а значения - это выручка. Используйте аннотирование типов."
   ]
  },
  {
   "cell_type": "code",
   "execution_count": 129,
   "id": "baacb092",
   "metadata": {},
   "outputs": [],
   "source": [
    "def monthly_income(dates: list, costs: list) -> dict:\n",
    "    income = {}\n",
    "    for i in dates:\n",
    "        month = i.split(\"-\")[1]\n",
    "        if month not in income:\n",
    "            month_income = [costs[j] if dates[j].split(\"-\")[1] == month else 0 for j in range(len(costs))]\n",
    "            income.setdefault(month, sum(month_income))\n",
    "    return income"
   ]
  },
  {
   "cell_type": "code",
   "execution_count": 130,
   "id": "a90050de",
   "metadata": {},
   "outputs": [
    {
     "data": {
      "text/plain": [
       "{'09': 25647, '12': 45452, '10': 28645, '11': 25098}"
      ]
     },
     "execution_count": 130,
     "metadata": {},
     "output_type": "execute_result"
    }
   ],
   "source": [
    "monthly_income(dates, costs)"
   ]
  }
 ],
 "metadata": {
  "kernelspec": {
   "display_name": "Python 3 (ipykernel)",
   "language": "python",
   "name": "python3"
  },
  "language_info": {
   "codemirror_mode": {
    "name": "ipython",
    "version": 3
   },
   "file_extension": ".py",
   "mimetype": "text/x-python",
   "name": "python",
   "nbconvert_exporter": "python",
   "pygments_lexer": "ipython3",
   "version": "3.9.13"
  }
 },
 "nbformat": 4,
 "nbformat_minor": 5
}
